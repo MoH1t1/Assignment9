{
  "metadata": {
    "kernelspec": {
      "name": "python",
      "display_name": "Python (Pyodide)",
      "language": "python"
    },
    "language_info": {
      "codemirror_mode": {
        "name": "python",
        "version": 3
      },
      "file_extension": ".py",
      "mimetype": "text/x-python",
      "name": "python",
      "nbconvert_exporter": "python",
      "pygments_lexer": "ipython3",
      "version": "3.8"
    }
  },
  "nbformat_minor": 4,
  "nbformat": 4,
  "cells": [
    {
      "cell_type": "code",
      "source": "# Q1. Explain why we have to use the Exception class while creating a Custom Exception. # Note: Here Exception class refers to the base class for all the exceptions.\n\n# The Exception class is the base class for all built-in exceptions in Python, and it provides a consistent interface for error handling. Custom exceptions inherit\n# from the Exception class to ensure they integrate seamlessly with Python's exception hierarchy, allowing users to catch and handle them like any other exception. \n# By doing so, custom exceptions gain access to all the functionality provided by the Exception class, such as message storage and traceback management.",
      "metadata": {
        "trusted": true
      },
      "outputs": [],
      "execution_count": null
    },
    {
      "cell_type": "code",
      "source": "# Q2. Write a python program to print Python Exception Hierarchy.\n\nimport inspect\ndef print_exception_hierarchy(cls, indent=0):\n    print(\" \" * indent + cls.__name__)\n    for subclass in cls.__subclasses__():\n        print_exception_hierarchy(subclass, indent + 4)\n\nprint_exception_hierarchy(BaseException)",
      "metadata": {
        "trusted": true
      },
      "outputs": [
        {
          "name": "stdout",
          "text": "BaseException\n    BaseExceptionGroup\n        ExceptionGroup\n    Exception\n        ArithmeticError\n            FloatingPointError\n            OverflowError\n            ZeroDivisionError\n                DivisionByZero\n                DivisionUndefined\n            DecimalException\n                Clamped\n                Rounded\n                    Underflow\n                    Overflow\n                Inexact\n                    Underflow\n                    Overflow\n                Subnormal\n                    Underflow\n                DivisionByZero\n                FloatOperation\n                InvalidOperation\n                    ConversionSyntax\n                    DivisionImpossible\n                    DivisionUndefined\n                    InvalidContext\n        AssertionError\n        AttributeError\n            FrozenInstanceError\n        BufferError\n        EOFError\n            IncompleteReadError\n        ImportError\n            ModuleNotFoundError\n                PackageNotFoundError\n            ZipImportError\n        LookupError\n            IndexError\n            KeyError\n                UnknownBackend\n            CodecRegistryError\n        MemoryError\n        NameError\n            UnboundLocalError\n        OSError\n            BlockingIOError\n            ChildProcessError\n            ConnectionError\n                BrokenPipeError\n                ConnectionAbortedError\n                ConnectionRefusedError\n                ConnectionResetError\n                    RemoteDisconnected\n            FileExistsError\n            FileNotFoundError\n            InterruptedError\n            IsADirectoryError\n            NotADirectoryError\n            PermissionError\n            ProcessLookupError\n            TimeoutError\n            UnsupportedOperation\n            itimer_error\n            Error\n                SameFileError\n            SpecialFileError\n            ExecError\n            ReadError\n            herror\n            gaierror\n            SSLError\n                SSLCertVerificationError\n                SSLZeroReturnError\n                SSLWantWriteError\n                SSLWantReadError\n                SSLSyscallError\n                SSLEOFError\n            URLError\n                HTTPError\n                ContentTooShortError\n        ReferenceError\n        RuntimeError\n            NotImplementedError\n                StdinNotImplementedError\n            RecursionError\n            _DeadlockError\n            BrokenBarrierError\n            BrokenExecutor\n                BrokenThreadPool\n            SendfileNotAvailableError\n            BrokenBarrierError\n        StopAsyncIteration\n        StopIteration\n        SyntaxError\n            IndentationError\n                TabError\n        SystemError\n            CodecRegistryError\n        TypeError\n            MultipartConversionError\n            FloatOperation\n        ValueError\n            UnicodeError\n                UnicodeDecodeError\n                UnicodeEncodeError\n                UnicodeTranslateError\n            UnsupportedOperation\n            AddressValueError\n            NetmaskValueError\n            Error\n            IllegalMonthError\n            IllegalWeekdayError\n            MessageDefect\n                NoBoundaryInMultipartDefect\n                StartBoundaryNotFoundDefect\n                CloseBoundaryNotFoundDefect\n                FirstHeaderLineIsContinuationDefect\n                MisplacedEnvelopeHeaderDefect\n                MissingHeaderBodySeparatorDefect\n                MultipartInvariantViolationDefect\n                InvalidMultipartContentTransferEncodingDefect\n                UndecodableBytesDefect\n                InvalidBase64PaddingDefect\n                InvalidBase64CharactersDefect\n                InvalidBase64LengthDefect\n                HeaderDefect\n                    InvalidHeaderDefect\n                    HeaderMissingRequiredValue\n                    NonPrintableDefect\n                    ObsoleteHeaderDefect\n                    NonASCIILocalPartDefect\n                    InvalidDateDefect\n            JSONDecodeError\n            ELFInvalid\n            InvalidVersion\n            InvalidName\n            InvalidWheelFilename\n            InvalidSdistFilename\n            InvalidSpecifier\n            InvalidMarker\n            UndefinedComparison\n            UndefinedEnvironmentName\n            InvalidRequirement\n            PiplitePyPIDisabled\n            ClassNotFound\n            ClipboardEmpty\n            SSLCertVerificationError\n            MacroToEdit\n        Warning\n            BytesWarning\n            DeprecationWarning\n                ProvisionalWarning\n            EncodingWarning\n            FutureWarning\n                ProvisionalCompleterWarning\n            ImportWarning\n            PendingDeprecationWarning\n            ResourceWarning\n            RuntimeWarning\n            SyntaxWarning\n            UnicodeWarning\n            UserWarning\n                FormatterWarning\n                GetPassWarning\n            APIVersionWarning\n        ExceptionGroup\n        error\n        error\n        TokenError\n        StopTokenizing\n        Error\n        _OptionError\n        EvalCodeResultException\n        RegistryError\n        _GiveupOnFastCopy\n        ClassFoundException\n        EndOfBlock\n        TraversalError\n        JsException\n        ConversionError\n        InternalError\n        Error\n            CancelledError\n            InvalidStateError\n        _GiveupOnSendfile\n        Error\n        SubprocessError\n            CalledProcessError\n            TimeoutExpired\n        InvalidStateError\n        LimitOverrunError\n        QueueEmpty\n        QueueFull\n        JsException\n        Incomplete\n        error\n        BadZipFile\n        LargeZipFile\n        UnsupportedWheel\n        TarError\n            ExtractError\n            ReadError\n            CompressionError\n            StreamError\n            HeaderError\n                EmptyHeaderError\n                TruncatedHeaderError\n                EOFHeaderError\n                InvalidHeaderError\n                SubsequentHeaderError\n            FilterError\n                AbsolutePathError\n                OutsideDestinationError\n                SpecialFileError\n                AbsoluteLinkError\n                LinkOutsideDestinationError\n        Error\n        MessageError\n            MessageParseError\n                HeaderParseError\n                BoundaryError\n            MultipartConversionError\n            CharsetError\n        ParserSyntaxError\n        UnsupportedAPIVersion\n        UnsupportedMIMEType\n        UnsupportedWheel\n        SkipTest\n        _ShouldStop\n        _UnexpectedSuccess\n        ArgumentError\n        ArgumentTypeError\n        InvalidSpecError\n        TraitError\n        PickleError\n            PicklingError\n            UnpicklingError\n        _Stop\n        Empty\n        Full\n        ConfigError\n            ConfigLoaderError\n                ArgumentError\n            ConfigFileNotFound\n        ConfigurableError\n            MultipleInstanceError\n        ApplicationError\n        ErrorDuringImport\n        NotOneValueFound\n        KnownIssue\n        VerifierFailure\n        CannotEval\n        OptionError\n        BdbQuit\n        Restart\n        FindCmdError\n        HomeDirError\n        ProfileDirError\n        IPythonCoreError\n            TryNext\n            UsageError\n            StdinNotImplementedError\n        InputRejected\n        GetoptError\n        ErrorToken\n        _Error\n        PrefilterError\n        AliasError\n            InvalidAliasError\n        Error\n            InterfaceError\n            DatabaseError\n                InternalError\n                OperationalError\n                ProgrammingError\n                IntegrityError\n                DataError\n                NotSupportedError\n        Warning\n        SpaceInInput\n        DOMException\n            IndexSizeErr\n            DomstringSizeErr\n            HierarchyRequestErr\n            WrongDocumentErr\n            InvalidCharacterErr\n            NoDataAllowedErr\n            NoModificationAllowedErr\n            NotFoundErr\n            NotSupportedErr\n            InuseAttributeErr\n            InvalidStateErr\n            SyntaxErr\n            InvalidModificationErr\n            NamespaceErr\n            InvalidAccessErr\n            ValidationErr\n        ValidationError\n        EditReadOnlyBuffer\n        _Retry\n        InvalidLayoutError\n        HeightIsUnknownError\n        GuardRejection\n        HTTPException\n            NotConnected\n            InvalidURL\n            UnknownProtocol\n            UnknownTransferEncoding\n            UnimplementedFileMode\n            IncompleteRead\n            ImproperConnectionState\n                CannotSendRequest\n                CannotSendHeader\n                ResponseNotReady\n            BadStatusLine\n                RemoteDisconnected\n            LineTooLong\n        InteractivelyDefined\n        KillEmbedded\n    GeneratorExit\n    KeyboardInterrupt\n    SystemExit\n    CancelledError\n",
          "output_type": "stream"
        }
      ],
      "execution_count": 1
    },
    {
      "cell_type": "code",
      "source": "# Q3. What errors are defined in the ArithmeticError class? Explain any two with an example.\n\n# The ArithmeticError class is a base class for errors raised during numeric operations. Common errors include:\n# ZeroDivisionError: Raised when a number is divided by zero. Example:\nprint(10 / 0)  \n\n# OverflowError: Raised when a calculation exceeds the limits of a numeric type. Example:\nimport math\nprint(math.exp(1000)) ",
      "metadata": {
        "trusted": true
      },
      "outputs": [
        {
          "ename": "<class 'ZeroDivisionError'>",
          "evalue": "division by zero",
          "traceback": [
            "\u001b[0;31m---------------------------------------------------------------------------\u001b[0m",
            "\u001b[0;31mZeroDivisionError\u001b[0m                         Traceback (most recent call last)",
            "Cell \u001b[0;32mIn[2], line 5\u001b[0m\n\u001b[1;32m      1\u001b[0m \u001b[38;5;66;03m# Q3. What errors are defined in the ArithmeticError class? Explain any two with an example.\u001b[39;00m\n\u001b[1;32m      2\u001b[0m \n\u001b[1;32m      3\u001b[0m \u001b[38;5;66;03m# The ArithmeticError class is a base class for errors raised during numeric operations. Common errors include:\u001b[39;00m\n\u001b[1;32m      4\u001b[0m \u001b[38;5;66;03m# ZeroDivisionError: Raised when a number is divided by zero. Example:\u001b[39;00m\n\u001b[0;32m----> 5\u001b[0m \u001b[38;5;28mprint\u001b[39m(\u001b[38;5;241;43m10\u001b[39;49m\u001b[43m \u001b[49m\u001b[38;5;241;43m/\u001b[39;49m\u001b[43m \u001b[49m\u001b[38;5;241;43m0\u001b[39;49m)  \n\u001b[1;32m      7\u001b[0m \u001b[38;5;66;03m# OverflowError: Raised when a calculation exceeds the limits of a numeric type. Example:\u001b[39;00m\n\u001b[1;32m      8\u001b[0m \u001b[38;5;28;01mimport\u001b[39;00m \u001b[38;5;21;01mmath\u001b[39;00m\n",
            "\u001b[0;31mZeroDivisionError\u001b[0m: division by zero"
          ],
          "output_type": "error"
        }
      ],
      "execution_count": 2
    },
    {
      "cell_type": "code",
      "source": "# Q4. Why LookupError class is used? Explain with an example KeyError and IndexError.\n\n# The LookupError class serves as a base for exceptions that occur when a lookup operation (like accessing an index or key) fails.\n\n# KeyError: Raised when a dictionary key is not found. Example:\n\ndata = {\"a\": 1}\nprint(data[\"b\"])\n\n# IndexError: Raised when a sequence index is out of range. Example:\n\nlst = [1, 2, 3]\nprint(lst[5])",
      "metadata": {
        "trusted": true
      },
      "outputs": [
        {
          "ename": "<class 'KeyError'>",
          "evalue": "'b'",
          "traceback": [
            "\u001b[0;31m---------------------------------------------------------------------------\u001b[0m",
            "\u001b[0;31mKeyError\u001b[0m                                  Traceback (most recent call last)",
            "Cell \u001b[0;32mIn[3], line 8\u001b[0m\n\u001b[1;32m      1\u001b[0m \u001b[38;5;66;03m# Q4. Why LookupError class is used? Explain with an example KeyError and IndexError.\u001b[39;00m\n\u001b[1;32m      2\u001b[0m \n\u001b[1;32m      3\u001b[0m \u001b[38;5;66;03m# The LookupError class serves as a base for exceptions that occur when a lookup operation (like accessing an index or key) fails.\u001b[39;00m\n\u001b[1;32m      4\u001b[0m \n\u001b[1;32m      5\u001b[0m \u001b[38;5;66;03m# KeyError: Raised when a dictionary key is not found. Example:\u001b[39;00m\n\u001b[1;32m      7\u001b[0m data \u001b[38;5;241m=\u001b[39m {\u001b[38;5;124m\"\u001b[39m\u001b[38;5;124ma\u001b[39m\u001b[38;5;124m\"\u001b[39m: \u001b[38;5;241m1\u001b[39m}\n\u001b[0;32m----> 8\u001b[0m \u001b[38;5;28mprint\u001b[39m(\u001b[43mdata\u001b[49m\u001b[43m[\u001b[49m\u001b[38;5;124;43m\"\u001b[39;49m\u001b[38;5;124;43mb\u001b[39;49m\u001b[38;5;124;43m\"\u001b[39;49m\u001b[43m]\u001b[49m)\n\u001b[1;32m     10\u001b[0m \u001b[38;5;66;03m# IndexError: Raised when a sequence index is out of range. Example:\u001b[39;00m\n\u001b[1;32m     12\u001b[0m lst \u001b[38;5;241m=\u001b[39m [\u001b[38;5;241m1\u001b[39m, \u001b[38;5;241m2\u001b[39m, \u001b[38;5;241m3\u001b[39m]\n",
            "\u001b[0;31mKeyError\u001b[0m: 'b'"
          ],
          "output_type": "error"
        }
      ],
      "execution_count": 3
    },
    {
      "cell_type": "code",
      "source": "# Q5. Explain ImportError. What is ModuleNotFoundError?\n\n# ImportError: Raised when an import operation fails, typically due to missing modules or invalid imports.\n# ModuleNotFoundError: A subclass of ImportError, raised specifically when the requested module cannot be found.",
      "metadata": {
        "trusted": true
      },
      "outputs": [],
      "execution_count": null
    },
    {
      "cell_type": "code",
      "source": "# Q6. List down some best practices for exception handling in python.\n\n# Catch Specific Exceptions: Avoid using except Exception: unless necessary; handle specific exceptions instead.\n# Use Finally Block: Use finally to execute cleanup code, like closing files or releasing resources.\n# Log Exceptions: Log errors instead of silently suppressing them to debug issues effectively.",
      "metadata": {
        "trusted": true
      },
      "outputs": [],
      "execution_count": null
    }
  ]
}